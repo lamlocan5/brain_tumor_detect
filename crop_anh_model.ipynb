{
 "cells": [
  {
   "cell_type": "code",
   "execution_count": 24,
   "metadata": {},
   "outputs": [
    {
     "name": "stdout",
     "output_type": "stream",
     "text": [
      "Requirement already satisfied: pip in c:\\users\\admin\\miniconda3\\envs\\brain_tumor_detection\\lib\\site-packages (24.2)\n",
      "Requirement already satisfied: setuptools in c:\\users\\admin\\miniconda3\\envs\\brain_tumor_detection\\lib\\site-packages (73.0.1)\n",
      "Requirement already satisfied: wheel in c:\\users\\admin\\miniconda3\\envs\\brain_tumor_detection\\lib\\site-packages (0.44.0)\n",
      "Requirement already satisfied: tensorflow in c:\\users\\admin\\miniconda3\\envs\\brain_tumor_detection\\lib\\site-packages (2.17.0)\n",
      "Requirement already satisfied: tensorflow-intel==2.17.0 in c:\\users\\admin\\miniconda3\\envs\\brain_tumor_detection\\lib\\site-packages (from tensorflow) (2.17.0)\n",
      "Requirement already satisfied: absl-py>=1.0.0 in c:\\users\\admin\\miniconda3\\envs\\brain_tumor_detection\\lib\\site-packages (from tensorflow-intel==2.17.0->tensorflow) (2.1.0)\n",
      "Requirement already satisfied: astunparse>=1.6.0 in c:\\users\\admin\\miniconda3\\envs\\brain_tumor_detection\\lib\\site-packages (from tensorflow-intel==2.17.0->tensorflow) (1.6.3)\n",
      "Requirement already satisfied: flatbuffers>=24.3.25 in c:\\users\\admin\\miniconda3\\envs\\brain_tumor_detection\\lib\\site-packages (from tensorflow-intel==2.17.0->tensorflow) (24.3.25)\n",
      "Requirement already satisfied: gast!=0.5.0,!=0.5.1,!=0.5.2,>=0.2.1 in c:\\users\\admin\\miniconda3\\envs\\brain_tumor_detection\\lib\\site-packages (from tensorflow-intel==2.17.0->tensorflow) (0.6.0)\n",
      "Requirement already satisfied: google-pasta>=0.1.1 in c:\\users\\admin\\miniconda3\\envs\\brain_tumor_detection\\lib\\site-packages (from tensorflow-intel==2.17.0->tensorflow) (0.2.0)\n",
      "Requirement already satisfied: h5py>=3.10.0 in c:\\users\\admin\\miniconda3\\envs\\brain_tumor_detection\\lib\\site-packages (from tensorflow-intel==2.17.0->tensorflow) (3.11.0)\n",
      "Requirement already satisfied: libclang>=13.0.0 in c:\\users\\admin\\miniconda3\\envs\\brain_tumor_detection\\lib\\site-packages (from tensorflow-intel==2.17.0->tensorflow) (18.1.1)\n",
      "Requirement already satisfied: ml-dtypes<0.5.0,>=0.3.1 in c:\\users\\admin\\miniconda3\\envs\\brain_tumor_detection\\lib\\site-packages (from tensorflow-intel==2.17.0->tensorflow) (0.4.0)\n",
      "Requirement already satisfied: opt-einsum>=2.3.2 in c:\\users\\admin\\miniconda3\\envs\\brain_tumor_detection\\lib\\site-packages (from tensorflow-intel==2.17.0->tensorflow) (3.3.0)\n",
      "Requirement already satisfied: packaging in c:\\users\\admin\\miniconda3\\envs\\brain_tumor_detection\\lib\\site-packages (from tensorflow-intel==2.17.0->tensorflow) (24.1)\n",
      "Requirement already satisfied: protobuf!=4.21.0,!=4.21.1,!=4.21.2,!=4.21.3,!=4.21.4,!=4.21.5,<5.0.0dev,>=3.20.3 in c:\\users\\admin\\miniconda3\\envs\\brain_tumor_detection\\lib\\site-packages (from tensorflow-intel==2.17.0->tensorflow) (4.25.4)\n",
      "Requirement already satisfied: requests<3,>=2.21.0 in c:\\users\\admin\\miniconda3\\envs\\brain_tumor_detection\\lib\\site-packages (from tensorflow-intel==2.17.0->tensorflow) (2.32.3)\n",
      "Requirement already satisfied: setuptools in c:\\users\\admin\\miniconda3\\envs\\brain_tumor_detection\\lib\\site-packages (from tensorflow-intel==2.17.0->tensorflow) (73.0.1)\n",
      "Requirement already satisfied: six>=1.12.0 in c:\\users\\admin\\miniconda3\\envs\\brain_tumor_detection\\lib\\site-packages (from tensorflow-intel==2.17.0->tensorflow) (1.16.0)\n",
      "Requirement already satisfied: termcolor>=1.1.0 in c:\\users\\admin\\miniconda3\\envs\\brain_tumor_detection\\lib\\site-packages (from tensorflow-intel==2.17.0->tensorflow) (2.4.0)\n",
      "Requirement already satisfied: typing-extensions>=3.6.6 in c:\\users\\admin\\miniconda3\\envs\\brain_tumor_detection\\lib\\site-packages (from tensorflow-intel==2.17.0->tensorflow) (4.12.2)\n",
      "Requirement already satisfied: wrapt>=1.11.0 in c:\\users\\admin\\miniconda3\\envs\\brain_tumor_detection\\lib\\site-packages (from tensorflow-intel==2.17.0->tensorflow) (1.16.0)\n",
      "Requirement already satisfied: grpcio<2.0,>=1.24.3 in c:\\users\\admin\\miniconda3\\envs\\brain_tumor_detection\\lib\\site-packages (from tensorflow-intel==2.17.0->tensorflow) (1.65.4)\n",
      "Requirement already satisfied: tensorboard<2.18,>=2.17 in c:\\users\\admin\\miniconda3\\envs\\brain_tumor_detection\\lib\\site-packages (from tensorflow-intel==2.17.0->tensorflow) (2.17.0)\n",
      "Requirement already satisfied: keras>=3.2.0 in c:\\users\\admin\\miniconda3\\envs\\brain_tumor_detection\\lib\\site-packages (from tensorflow-intel==2.17.0->tensorflow) (3.4.1)\n",
      "Requirement already satisfied: numpy<2.0.0,>=1.26.0 in c:\\users\\admin\\miniconda3\\envs\\brain_tumor_detection\\lib\\site-packages (from tensorflow-intel==2.17.0->tensorflow) (1.26.4)\n",
      "Requirement already satisfied: wheel<1.0,>=0.23.0 in c:\\users\\admin\\miniconda3\\envs\\brain_tumor_detection\\lib\\site-packages (from astunparse>=1.6.0->tensorflow-intel==2.17.0->tensorflow) (0.44.0)\n",
      "Requirement already satisfied: rich in c:\\users\\admin\\miniconda3\\envs\\brain_tumor_detection\\lib\\site-packages (from keras>=3.2.0->tensorflow-intel==2.17.0->tensorflow) (13.7.1)\n",
      "Requirement already satisfied: namex in c:\\users\\admin\\miniconda3\\envs\\brain_tumor_detection\\lib\\site-packages (from keras>=3.2.0->tensorflow-intel==2.17.0->tensorflow) (0.0.8)\n",
      "Requirement already satisfied: optree in c:\\users\\admin\\miniconda3\\envs\\brain_tumor_detection\\lib\\site-packages (from keras>=3.2.0->tensorflow-intel==2.17.0->tensorflow) (0.12.1)\n",
      "Requirement already satisfied: charset-normalizer<4,>=2 in c:\\users\\admin\\miniconda3\\envs\\brain_tumor_detection\\lib\\site-packages (from requests<3,>=2.21.0->tensorflow-intel==2.17.0->tensorflow) (3.3.2)\n",
      "Requirement already satisfied: idna<4,>=2.5 in c:\\users\\admin\\miniconda3\\envs\\brain_tumor_detection\\lib\\site-packages (from requests<3,>=2.21.0->tensorflow-intel==2.17.0->tensorflow) (3.7)\n",
      "Requirement already satisfied: urllib3<3,>=1.21.1 in c:\\users\\admin\\miniconda3\\envs\\brain_tumor_detection\\lib\\site-packages (from requests<3,>=2.21.0->tensorflow-intel==2.17.0->tensorflow) (2.2.2)\n",
      "Requirement already satisfied: certifi>=2017.4.17 in c:\\users\\admin\\miniconda3\\envs\\brain_tumor_detection\\lib\\site-packages (from requests<3,>=2.21.0->tensorflow-intel==2.17.0->tensorflow) (2024.7.4)\n",
      "Requirement already satisfied: markdown>=2.6.8 in c:\\users\\admin\\miniconda3\\envs\\brain_tumor_detection\\lib\\site-packages (from tensorboard<2.18,>=2.17->tensorflow-intel==2.17.0->tensorflow) (3.6)\n",
      "Requirement already satisfied: tensorboard-data-server<0.8.0,>=0.7.0 in c:\\users\\admin\\miniconda3\\envs\\brain_tumor_detection\\lib\\site-packages (from tensorboard<2.18,>=2.17->tensorflow-intel==2.17.0->tensorflow) (0.7.2)\n",
      "Requirement already satisfied: werkzeug>=1.0.1 in c:\\users\\admin\\miniconda3\\envs\\brain_tumor_detection\\lib\\site-packages (from tensorboard<2.18,>=2.17->tensorflow-intel==2.17.0->tensorflow) (3.0.3)\n",
      "Requirement already satisfied: MarkupSafe>=2.1.1 in c:\\users\\admin\\miniconda3\\envs\\brain_tumor_detection\\lib\\site-packages (from werkzeug>=1.0.1->tensorboard<2.18,>=2.17->tensorflow-intel==2.17.0->tensorflow) (2.1.5)\n",
      "Requirement already satisfied: markdown-it-py>=2.2.0 in c:\\users\\admin\\miniconda3\\envs\\brain_tumor_detection\\lib\\site-packages (from rich->keras>=3.2.0->tensorflow-intel==2.17.0->tensorflow) (3.0.0)\n",
      "Requirement already satisfied: pygments<3.0.0,>=2.13.0 in c:\\users\\admin\\miniconda3\\envs\\brain_tumor_detection\\lib\\site-packages (from rich->keras>=3.2.0->tensorflow-intel==2.17.0->tensorflow) (2.18.0)\n",
      "Requirement already satisfied: mdurl~=0.1 in c:\\users\\admin\\miniconda3\\envs\\brain_tumor_detection\\lib\\site-packages (from markdown-it-py>=2.2.0->rich->keras>=3.2.0->tensorflow-intel==2.17.0->tensorflow) (0.1.2)\n",
      "Collecting tensorflow-gpu\n",
      "  Using cached tensorflow-gpu-2.12.0.tar.gz (2.6 kB)\n",
      "  Preparing metadata (setup.py): started\n",
      "  Preparing metadata (setup.py): finished with status 'error'\n"
     ]
    },
    {
     "name": "stderr",
     "output_type": "stream",
     "text": [
      "  error: subprocess-exited-with-error\n",
      "  \n",
      "  × python setup.py egg_info did not run successfully.\n",
      "  │ exit code: 1\n",
      "  ╰─> [44 lines of output]\n",
      "      Traceback (most recent call last):\n",
      "        File \"C:\\Users\\ADMIN\\miniconda3\\envs\\brain_tumor_detection\\Lib\\site-packages\\packaging\\requirements.py\", line 36, in __init__\n",
      "          parsed = _parse_requirement(requirement_string)\n",
      "                   ^^^^^^^^^^^^^^^^^^^^^^^^^^^^^^^^^^^^^^\n",
      "        File \"C:\\Users\\ADMIN\\miniconda3\\envs\\brain_tumor_detection\\Lib\\site-packages\\packaging\\_parser.py\", line 62, in parse_requirement\n",
      "          return _parse_requirement(Tokenizer(source, rules=DEFAULT_RULES))\n",
      "                 ^^^^^^^^^^^^^^^^^^^^^^^^^^^^^^^^^^^^^^^^^^^^^^^^^^^^^^^^^^\n",
      "        File \"C:\\Users\\ADMIN\\miniconda3\\envs\\brain_tumor_detection\\Lib\\site-packages\\packaging\\_parser.py\", line 80, in _parse_requirement\n",
      "          url, specifier, marker = _parse_requirement_details(tokenizer)\n",
      "                                   ^^^^^^^^^^^^^^^^^^^^^^^^^^^^^^^^^^^^^\n",
      "        File \"C:\\Users\\ADMIN\\miniconda3\\envs\\brain_tumor_detection\\Lib\\site-packages\\packaging\\_parser.py\", line 124, in _parse_requirement_details\n",
      "          marker = _parse_requirement_marker(\n",
      "                   ^^^^^^^^^^^^^^^^^^^^^^^^^^\n",
      "        File \"C:\\Users\\ADMIN\\miniconda3\\envs\\brain_tumor_detection\\Lib\\site-packages\\packaging\\_parser.py\", line 145, in _parse_requirement_marker\n",
      "          tokenizer.raise_syntax_error(\n",
      "        File \"C:\\Users\\ADMIN\\miniconda3\\envs\\brain_tumor_detection\\Lib\\site-packages\\packaging\\_tokenizer.py\", line 167, in raise_syntax_error\n",
      "          raise ParserSyntaxError(\n",
      "      packaging._tokenizer.ParserSyntaxError: Expected end or semicolon (after name and no valid version specifier)\n",
      "          python_version>\"3.7\"\n",
      "                        ^\n",
      "      \n",
      "      The above exception was the direct cause of the following exception:\n",
      "      \n",
      "      Traceback (most recent call last):\n",
      "        File \"<string>\", line 2, in <module>\n",
      "        File \"<pip-setuptools-caller>\", line 34, in <module>\n",
      "        File \"C:\\Users\\ADMIN\\AppData\\Local\\Temp\\pip-install-j3ppprbt\\tensorflow-gpu_f5df512a09354476aabbb185be1e9c7c\\setup.py\", line 40, in <module>\n",
      "          setuptools.setup()\n",
      "        File \"C:\\Users\\ADMIN\\miniconda3\\envs\\brain_tumor_detection\\Lib\\site-packages\\setuptools\\__init__.py\", line 110, in setup\n",
      "          _install_setup_requires(attrs)\n",
      "        File \"C:\\Users\\ADMIN\\miniconda3\\envs\\brain_tumor_detection\\Lib\\site-packages\\setuptools\\__init__.py\", line 81, in _install_setup_requires\n",
      "          dist.parse_config_files(ignore_option_errors=True)\n",
      "        File \"C:\\Users\\ADMIN\\miniconda3\\envs\\brain_tumor_detection\\Lib\\site-packages\\setuptools\\dist.py\", line 608, in parse_config_files\n",
      "          self._finalize_requires()\n",
      "        File \"C:\\Users\\ADMIN\\miniconda3\\envs\\brain_tumor_detection\\Lib\\site-packages\\setuptools\\dist.py\", line 342, in _finalize_requires\n",
      "          self._normalize_requires()\n",
      "        File \"C:\\Users\\ADMIN\\miniconda3\\envs\\brain_tumor_detection\\Lib\\site-packages\\setuptools\\dist.py\", line 357, in _normalize_requires\n",
      "          self.install_requires = list(map(str, _reqs.parse(install_requires)))\n",
      "                                  ^^^^^^^^^^^^^^^^^^^^^^^^^^^^^^^^^^^^^^^^^^^^^\n",
      "        File \"C:\\Users\\ADMIN\\miniconda3\\envs\\brain_tumor_detection\\Lib\\site-packages\\packaging\\requirements.py\", line 38, in __init__\n",
      "          raise InvalidRequirement(str(e)) from e\n",
      "      packaging.requirements.InvalidRequirement: Expected end or semicolon (after name and no valid version specifier)\n",
      "          python_version>\"3.7\"\n",
      "                        ^\n",
      "      [end of output]\n",
      "  \n",
      "  note: This error originates from a subprocess, and is likely not a problem with pip.\n",
      "error: metadata-generation-failed\n",
      "\n",
      "× Encountered error while generating package metadata.\n",
      "╰─> See above for output.\n",
      "\n",
      "note: This is an issue with the package mentioned above, not pip.\n",
      "hint: See above for details.\n"
     ]
    },
    {
     "name": "stdout",
     "output_type": "stream",
     "text": [
      "Looking in indexes: https://download.pytorch.org/whl/cu118\n",
      "Requirement already satisfied: torch in c:\\users\\admin\\miniconda3\\envs\\brain_tumor_detection\\lib\\site-packages (2.4.0+cu118)\n",
      "Requirement already satisfied: torchvision in c:\\users\\admin\\miniconda3\\envs\\brain_tumor_detection\\lib\\site-packages (0.19.0+cu118)\n",
      "Requirement already satisfied: torchaudio in c:\\users\\admin\\miniconda3\\envs\\brain_tumor_detection\\lib\\site-packages (2.4.0+cu118)\n",
      "Requirement already satisfied: filelock in c:\\users\\admin\\miniconda3\\envs\\brain_tumor_detection\\lib\\site-packages (from torch) (3.13.1)\n",
      "Requirement already satisfied: typing-extensions>=4.8.0 in c:\\users\\admin\\miniconda3\\envs\\brain_tumor_detection\\lib\\site-packages (from torch) (4.12.2)\n",
      "Requirement already satisfied: sympy in c:\\users\\admin\\miniconda3\\envs\\brain_tumor_detection\\lib\\site-packages (from torch) (1.12)\n",
      "Requirement already satisfied: networkx in c:\\users\\admin\\miniconda3\\envs\\brain_tumor_detection\\lib\\site-packages (from torch) (3.2.1)\n",
      "Requirement already satisfied: jinja2 in c:\\users\\admin\\miniconda3\\envs\\brain_tumor_detection\\lib\\site-packages (from torch) (3.1.3)\n",
      "Requirement already satisfied: fsspec in c:\\users\\admin\\miniconda3\\envs\\brain_tumor_detection\\lib\\site-packages (from torch) (2024.2.0)\n",
      "Requirement already satisfied: setuptools in c:\\users\\admin\\miniconda3\\envs\\brain_tumor_detection\\lib\\site-packages (from torch) (73.0.1)\n",
      "Requirement already satisfied: numpy in c:\\users\\admin\\miniconda3\\envs\\brain_tumor_detection\\lib\\site-packages (from torchvision) (1.26.4)\n",
      "Requirement already satisfied: pillow!=8.3.*,>=5.3.0 in c:\\users\\admin\\miniconda3\\envs\\brain_tumor_detection\\lib\\site-packages (from torchvision) (10.4.0)\n",
      "Requirement already satisfied: MarkupSafe>=2.0 in c:\\users\\admin\\miniconda3\\envs\\brain_tumor_detection\\lib\\site-packages (from jinja2->torch) (2.1.5)\n",
      "Requirement already satisfied: mpmath>=0.19 in c:\\users\\admin\\miniconda3\\envs\\brain_tumor_detection\\lib\\site-packages (from sympy->torch) (1.3.0)\n",
      "Requirement already satisfied: cupy-cuda11x in c:\\users\\admin\\miniconda3\\envs\\brain_tumor_detection\\lib\\site-packages (13.2.0)\n",
      "Requirement already satisfied: numpy<2.3,>=1.22 in c:\\users\\admin\\miniconda3\\envs\\brain_tumor_detection\\lib\\site-packages (from cupy-cuda11x) (1.26.4)\n",
      "Requirement already satisfied: fastrlock>=0.5 in c:\\users\\admin\\miniconda3\\envs\\brain_tumor_detection\\lib\\site-packages (from cupy-cuda11x) (0.8.2)\n"
     ]
    }
   ],
   "source": [
    "! pip install --upgrade pip setuptools wheel\n",
    "! pip install tensorflow\n",
    "! pip install tensorflow-gpu\n",
    "! pip install torch torchvision torchaudio --index-url https://download.pytorch.org/whl/cu118\n",
    "! pip install cupy-cuda11x"
   ]
  },
  {
   "cell_type": "code",
   "execution_count": 25,
   "metadata": {},
   "outputs": [
    {
     "name": "stdout",
     "output_type": "stream",
     "text": [
      "Num GPUs Available:  0\n",
      "CUDA is available: True\n",
      "CUDA version: 11.8\n",
      "Device name: NVIDIA GeForce RTX 3050 Laptop GPU\n"
     ]
    }
   ],
   "source": [
    "import tensorflow as tf\n",
    "print(\"Num GPUs Available: \", len(tf.config.experimental.list_physical_devices('GPU')))\n",
    "import torch\n",
    "import torch\n",
    "print(\"CUDA is available:\", torch.cuda.is_available())\n",
    "print(\"CUDA version:\", torch.version.cuda)\n",
    "print(\"Device name:\", torch.cuda.get_device_name(0) if torch.cuda.is_available() else \"No GPU found\")\n",
    "\n"
   ]
  },
  {
   "cell_type": "code",
   "execution_count": 26,
   "metadata": {},
   "outputs": [],
   "source": [
    "import cv2\n",
    "import numpy as np\n",
    "import os   # To handle directories"
   ]
  },
  {
   "cell_type": "code",
   "execution_count": 27,
   "metadata": {},
   "outputs": [
    {
     "name": "stdout",
     "output_type": "stream",
     "text": [
      "['no0.jpg', 'no1.jpg', 'no10.jpg', 'no100.jpg', 'no1000.jpg', 'no1001.jpg', 'no1002.jpg', 'no1003.jpg', 'no1004.jpg', 'no1005.jpg', 'no1006.jpg', 'no1007.jpg', 'no1008.jpg', 'no1009.jpg', 'no101.jpg', 'no1010.jpg', 'no1011.jpg', 'no1012.jpg', 'no1013.jpg', 'no1014.jpg', 'no1015.jpg', 'no1016.jpg', 'no1017.jpg', 'no1018.jpg', 'no1019.jpg', 'no102.jpg', 'no1020.jpg', 'no1021.jpg', 'no1022.jpg', 'no1023.jpg', 'no1024.jpg', 'no1025.jpg', 'no1026.jpg', 'no1027.jpg', 'no1028.jpg', 'no1029.jpg', 'no103.jpg', 'no1030.jpg', 'no1031.jpg', 'no1032.jpg', 'no1033.jpg', 'no1034.jpg', 'no1035.jpg', 'no1036.jpg', 'no1037.jpg', 'no1038.jpg', 'no1039.jpg', 'no104.jpg', 'no1040.jpg', 'no1041.jpg', 'no1042.jpg', 'no1043.jpg', 'no1044.jpg', 'no1045.jpg', 'no1046.jpg', 'no1047.jpg', 'no1048.jpg', 'no1049.jpg', 'no105.jpg', 'no1050.jpg', 'no1051.jpg', 'no1052.jpg', 'no1053.jpg', 'no1054.jpg', 'no1055.jpg', 'no1056.jpg', 'no1057.jpg', 'no1058.jpg', 'no1059.jpg', 'no106.jpg', 'no1060.jpg', 'no1061.jpg', 'no1062.jpg', 'no1063.jpg', 'no1064.jpg', 'no1065.jpg', 'no1066.jpg', 'no1067.jpg', 'no1068.jpg', 'no1069.jpg', 'no107.jpg', 'no1070.jpg', 'no1071.jpg', 'no1072.jpg', 'no1073.jpg', 'no1074.jpg', 'no1075.jpg', 'no1076.jpg', 'no1077.jpg', 'no1078.jpg', 'no1079.jpg', 'no108.jpg', 'no1080.jpg', 'no1081.jpg', 'no1082.jpg', 'no1083.jpg', 'no1084.jpg', 'no1085.jpg', 'no1086.jpg', 'no1087.jpg', 'no1088.jpg', 'no1089.jpg', 'no109.jpg', 'no1090.jpg', 'no1091.jpg', 'no1092.jpg', 'no1093.jpg', 'no1094.jpg', 'no1095.jpg', 'no1096.jpg', 'no1097.jpg', 'no1098.jpg', 'no1099.jpg', 'no11.jpg', 'no110.jpg', 'no1100.jpg', 'no1101.jpg', 'no1102.jpg', 'no1103.jpg', 'no1104.jpg', 'no1105.jpg', 'no1106.jpg', 'no1107.jpg', 'no1108.jpg', 'no1109.jpg', 'no111.jpg', 'no1110.jpg', 'no1111.jpg', 'no1112.jpg', 'no1113.jpg', 'no1114.jpg', 'no1115.jpg', 'no1116.jpg', 'no1117.jpg', 'no1118.jpg', 'no1119.jpg', 'no112.jpg', 'no1120.jpg', 'no1121.jpg', 'no1122.jpg', 'no1123.jpg', 'no1124.jpg', 'no1125.jpg', 'no1126.jpg', 'no1127.jpg', 'no1128.jpg', 'no1129.jpg', 'no113.jpg', 'no1130.jpg', 'no1131.jpg', 'no1132.jpg', 'no1133.jpg', 'no1134.jpg', 'no1135.jpg', 'no1136.jpg', 'no1137.jpg', 'no1138.jpg', 'no1139.jpg', 'no114.jpg', 'no1140.jpg', 'no1141.jpg', 'no1142.jpg', 'no1143.jpg', 'no1144.jpg', 'no1145.jpg', 'no1146.jpg', 'no1147.jpg', 'no1148.jpg', 'no1149.jpg', 'no115.jpg', 'no1150.jpg', 'no1151.jpg', 'no1152.jpg', 'no1153.jpg', 'no1154.jpg', 'no1155.jpg', 'no1156.jpg', 'no1157.jpg', 'no1158.jpg', 'no1159.jpg', 'no116.jpg', 'no1160.jpg', 'no1161.jpg', 'no1162.jpg', 'no1163.jpg', 'no1164.jpg', 'no1165.jpg', 'no1166.jpg', 'no1167.jpg', 'no1168.jpg', 'no1169.jpg', 'no117.jpg', 'no1170.jpg', 'no1171.jpg', 'no1172.jpg', 'no1173.jpg', 'no1174.jpg', 'no1175.jpg', 'no1176.jpg', 'no1177.jpg', 'no1178.jpg', 'no1179.jpg', 'no118.jpg', 'no1180.jpg', 'no1181.jpg', 'no1182.jpg', 'no1183.jpg', 'no1184.jpg', 'no1185.jpg', 'no1186.jpg', 'no1187.jpg', 'no1188.jpg', 'no1189.jpg', 'no119.jpg', 'no1190.jpg', 'no1191.jpg', 'no1192.jpg', 'no1193.jpg', 'no1194.jpg', 'no1195.jpg', 'no1196.jpg', 'no1197.jpg', 'no1198.jpg', 'no1199.jpg', 'No12.jpg', 'no120.jpg', 'no1200.jpg', 'no1201.jpg', 'no1202.jpg', 'no1203.jpg', 'no1204.jpg', 'no1205.jpg', 'no1206.jpg', 'no1207.jpg', 'no1208.jpg', 'no1209.jpg', 'no121.jpg', 'no1210.jpg', 'no1211.jpg', 'no1212.jpg', 'no1213.jpg', 'no1214.jpg', 'no1215.jpg', 'no1216.jpg', 'no1217.jpg', 'no1218.jpg', 'no1219.jpg', 'no122.jpg', 'no1220.jpg', 'no1221.jpg', 'no1222.jpg', 'no1223.jpg', 'no1224.jpg', 'no1225.jpg', 'no1226.jpg', 'no1227.jpg', 'no1228.jpg', 'no1229.jpg', 'no123.jpg', 'no1230.jpg', 'no1231.jpg', 'no1232.jpg', 'no1233.jpg', 'no1234.jpg', 'no1235.jpg', 'no1236.jpg', 'no1237.jpg', 'no1238.jpg', 'no1239.jpg', 'no124.jpg', 'no1240.jpg', 'no1241.jpg', 'no1242.jpg', 'no1243.jpg', 'no1244.jpg', 'no1245.jpg', 'no1246.jpg', 'no1247.jpg', 'no1248.jpg', 'no1249.jpg', 'no125.jpg', 'no1250.jpg', 'no1251.jpg', 'no1252.jpg', 'no1253.jpg', 'no1254.jpg', 'no1255.jpg', 'no1256.jpg', 'no1257.jpg', 'no1258.jpg', 'no1259.jpg', 'no126.jpg', 'no1260.jpg', 'no1261.jpg', 'no1262.jpg', 'no1263.jpg', 'no1264.jpg', 'no1265.jpg', 'no1266.jpg', 'no1267.jpg', 'no1268.jpg', 'no1269.jpg', 'no127.jpg', 'no1270.jpg', 'no1271.jpg', 'no1272.jpg', 'no1273.jpg', 'no1274.jpg', 'no1275.jpg', 'no1276.jpg', 'no1277.jpg', 'no1278.jpg', 'no1279.jpg', 'no128.jpg', 'no1280.jpg', 'no1281.jpg', 'no1282.jpg', 'no1283.jpg', 'no1284.jpg', 'no1285.jpg', 'no1286.jpg', 'no1287.jpg', 'no1288.jpg', 'no1289.jpg', 'no129.jpg', 'no1290.jpg', 'no1291.jpg', 'no1292.jpg', 'no1293.jpg', 'no1294.jpg', 'no1295.jpg', 'no1296.jpg', 'no1297.jpg', 'no1298.jpg', 'no1299.jpg', 'No13.jpg', 'no130.jpg', 'no1300.jpg', 'no1301.jpg', 'no1302.jpg', 'no1303.jpg', 'no1304.jpg', 'no1305.jpg', 'no1306.jpg', 'no1307.jpg', 'no1308.jpg', 'no1309.jpg', 'no131.jpg', 'no1310.jpg', 'no1311.jpg', 'no1312.jpg', 'no1313.jpg', 'no1314.jpg', 'no1315.jpg', 'no1316.jpg', 'no1317.jpg', 'no1318.jpg', 'no1319.jpg', 'no132.jpg', 'no1320.jpg', 'no1321.jpg', 'no1322.jpg', 'no1323.jpg', 'no1324.jpg', 'no1325.jpg', 'no1326.jpg', 'no1327.jpg', 'no1328.jpg', 'no1329.jpg', 'no133.jpg', 'no1330.jpg', 'no1331.jpg', 'no1332.jpg', 'no1333.jpg', 'no1334.jpg', 'no1335.jpg', 'no1336.jpg', 'no1337.jpg', 'no1338.jpg', 'no1339.jpg', 'no134.jpg', 'no1340.jpg', 'no1341.jpg', 'no1342.jpg', 'no1343.jpg', 'no1344.jpg', 'no1345.jpg', 'no1346.jpg', 'no1347.jpg', 'no1348.jpg', 'no1349.jpg', 'no135.jpg', 'no1350.jpg', 'no1351.jpg', 'no1352.jpg', 'no1353.jpg', 'no1354.jpg', 'no1355.jpg', 'no1356.jpg', 'no1357.jpg', 'no1358.jpg', 'no1359.jpg', 'no136.jpg', 'no1360.jpg', 'no1361.jpg', 'no1362.jpg', 'no1363.jpg', 'no1364.jpg', 'no1365.jpg', 'no1366.jpg', 'no1367.jpg', 'no1368.jpg', 'no1369.jpg', 'no137.jpg', 'no1370.jpg', 'no1371.jpg', 'no1372.jpg', 'no1373.jpg', 'no1374.jpg', 'no1375.jpg', 'no1376.jpg', 'no1377.jpg', 'no1378.jpg', 'no1379.jpg', 'no138.jpg', 'no1380.jpg', 'no1381.jpg', 'no1382.jpg', 'no1383.jpg', 'no1384.jpg', 'no1385.jpg', 'no1386.jpg', 'no1387.jpg', 'no1388.jpg', 'no1389.jpg', 'no139.jpg', 'no1390.jpg', 'no1391.jpg', 'no1392.jpg', 'no1393.jpg', 'no1394.jpg', 'no1395.jpg', 'no1396.jpg', 'no1397.jpg', 'no1398.jpg', 'no1399.jpg', 'No14.jpg', 'no140.jpg', 'no1400.jpg', 'no1401.jpg', 'no1402.jpg', 'no1403.jpg', 'no1404.jpg', 'no1405.jpg', 'no1406.jpg', 'no1407.jpg', 'no1408.jpg', 'no1409.jpg', 'no141.jpg', 'no1410.jpg', 'no1411.jpg', 'no1412.jpg', 'no1413.jpg', 'no1414.jpg', 'no1415.jpg', 'no1416.jpg', 'no1417.jpg', 'no1418.jpg', 'no1419.jpg', 'no142.jpg', 'no1420.jpg', 'no1421.jpg', 'no1422.jpg', 'no1423.jpg', 'no1424.jpg', 'no1425.jpg', 'no1426.jpg', 'no1427.jpg', 'no1428.jpg', 'no1429.jpg', 'no143.jpg', 'no1430.jpg', 'no1431.jpg', 'no1432.jpg', 'no1433.jpg', 'no1434.jpg', 'no1435.jpg', 'no1436.jpg', 'no1437.jpg', 'no1438.jpg', 'no1439.jpg', 'no144.jpg', 'no1440.jpg', 'no1441.jpg', 'no1442.jpg', 'no1443.jpg', 'no1444.jpg', 'no1445.jpg', 'no1446.jpg', 'no1447.jpg', 'no1448.jpg', 'no1449.jpg', 'no145.jpg', 'no1450.jpg', 'no1451.jpg', 'no1452.jpg', 'no1453.jpg', 'no1454.jpg', 'no1455.jpg', 'no1456.jpg', 'no1457.jpg', 'no1458.jpg', 'no1459.jpg', 'no146.jpg', 'no1460.jpg', 'no1461.jpg', 'no1462.jpg', 'no1463.jpg', 'no1464.jpg', 'no1465.jpg', 'no1466.jpg', 'no1467.jpg', 'no1468.jpg', 'no1469.jpg', 'no147.jpg', 'no1470.jpg', 'no1471.jpg', 'no1472.jpg', 'no1473.jpg', 'no1474.jpg', 'no1475.jpg', 'no1476.jpg', 'no1477.jpg', 'no1478.jpg', 'no1479.jpg', 'no148.jpg', 'no1480.jpg', 'no1481.jpg', 'no1482.jpg', 'no1483.jpg', 'no1484.jpg', 'no1485.jpg', 'no1486.jpg', 'no1487.jpg', 'no1488.jpg', 'no1489.jpg', 'no149.jpg', 'no1490.jpg', 'no1491.jpg', 'no1492.jpg', 'no1493.jpg', 'no1494.jpg', 'no1495.jpg', 'no1496.jpg', 'no1497.jpg', 'no1498.jpg', 'no1499.jpg', 'No15.jpg', 'no150.jpg', 'no151.jpg', 'no152.jpg', 'no153.jpg', 'no154.jpg', 'no155.jpg', 'no156.jpg', 'no157.jpg', 'no158.jpg', 'no159.jpg', 'no16.jpg', 'no160.jpg', 'no161.jpg', 'no162.jpg', 'no163.jpg', 'no164.jpg', 'no165.jpg', 'no166.jpg', 'no167.jpg', 'no168.jpg', 'no169.jpg', 'No17.jpg', 'no170.jpg', 'no171.jpg', 'no172.jpg', 'no173.jpg', 'no174.jpg', 'no175.jpg', 'no176.jpg', 'no177.jpg', 'no178.jpg', 'no179.jpg', 'No18.jpg', 'no180.jpg', 'no181.jpg', 'no182.jpg', 'no183.jpg', 'no184.jpg', 'no185.jpg', 'no186.jpg', 'no187.jpg', 'no188.jpg', 'no189.jpg', 'No19.jpg', 'no190.jpg', 'no191.jpg', 'no192.jpg', 'no193.jpg', 'no194.jpg', 'no195.jpg', 'no196.jpg', 'no197.jpg', 'no198.jpg', 'no199.jpg', 'no2.jpg', 'no20.jpg', 'no200.jpg', 'no201.jpg', 'no202.jpg', 'no203.jpg', 'no204.jpg', 'no205.jpg', 'no206.jpg', 'no207.jpg', 'no208.jpg', 'no209.jpg', 'no21.jpg', 'no210.jpg', 'no211.jpg', 'no212.jpg', 'no213.jpg', 'no214.jpg', 'no215.jpg', 'no216.jpg', 'no217.jpg', 'no218.jpg', 'no219.jpg', 'no22.jpg', 'no220.jpg', 'no221.jpg', 'no222.jpg', 'no223.jpg', 'no224.jpg', 'no225.jpg', 'no226.jpg', 'no227.jpg', 'no228.jpg', 'no229.jpg', 'no23.jpg', 'no230.jpg', 'no231.jpg', 'no232.jpg', 'no233.jpg', 'no234.jpg', 'no235.jpg', 'no236.jpg', 'no237.jpg', 'no238.jpg', 'no239.jpg', 'no24.jpg', 'no240.jpg', 'no241.jpg', 'no242.jpg', 'no243.jpg', 'no244.jpg', 'no245.jpg', 'no246.jpg', 'no247.jpg', 'no248.jpg', 'no249.jpg', 'no25.jpg', 'no250.jpg', 'no251.jpg', 'no252.jpg', 'no253.jpg', 'no254.jpg', 'no255.jpg', 'no256.jpg', 'no257.jpg', 'no258.jpg', 'no259.jpg', 'no26.jpg', 'no260.jpg', 'no261.jpg', 'no262.jpg', 'no263.jpg', 'no264.jpg', 'no265.jpg', 'no266.jpg', 'no267.jpg', 'no268.jpg', 'no269.jpg', 'no27.jpg', 'no270.jpg', 'no271.jpg', 'no272.jpg', 'no273.jpg', 'no274.jpg', 'no275.jpg', 'no276.jpg', 'no277.jpg', 'no278.jpg', 'no279.jpg', 'no28.jpg', 'no280.jpg', 'no281.jpg', 'no282.jpg', 'no283.jpg', 'no284.jpg', 'no285.jpg', 'no286.jpg', 'no287.jpg', 'no288.jpg', 'no289.jpg', 'no29.jpg', 'no290.jpg', 'no291.jpg', 'no292.jpg', 'no293.jpg', 'no294.jpg', 'no295.jpg', 'no296.jpg', 'no297.jpg', 'no298.jpg', 'no299.jpg', 'no3.jpg', 'no30.jpg', 'no300.jpg', 'no301.jpg', 'no302.jpg', 'no303.jpg', 'no304.jpg', 'no305.jpg', 'no306.jpg', 'no307.jpg', 'no308.jpg', 'no309.jpg', 'no31.jpg', 'no310.jpg', 'no311.jpg', 'no312.jpg', 'no313.jpg', 'no314.jpg', 'no315.jpg', 'no316.jpg', 'no317.jpg', 'no318.jpg', 'no319.jpg', 'no32.jpg', 'no320.jpg', 'no321.jpg', 'no322.jpg', 'no323.jpg', 'no324.jpg', 'no325.jpg', 'no326.jpg', 'no327.jpg', 'no328.jpg', 'no329.jpg', 'no33.jpg', 'no330.jpg', 'no331.jpg', 'no332.jpg', 'no333.jpg', 'no334.jpg', 'no335.jpg', 'no336.jpg', 'no337.jpg', 'no338.jpg', 'no339.jpg', 'no34.jpg', 'no340.jpg', 'no341.jpg', 'no342.jpg', 'no343.jpg', 'no344.jpg', 'no345.jpg', 'no346.jpg', 'no347.jpg', 'no348.jpg', 'no349.jpg', 'no35.jpg', 'no350.jpg', 'no351.jpg', 'no352.jpg', 'no353.jpg', 'no354.jpg', 'no355.jpg', 'no356.jpg', 'no357.jpg', 'no358.jpg', 'no359.jpg', 'no36.jpg', 'no360.jpg', 'no361.jpg', 'no362.jpg', 'no363.jpg', 'no364.jpg', 'no365.jpg', 'no366.jpg', 'no367.jpg', 'no368.jpg', 'no369.jpg', 'no37.jpg', 'no370.jpg', 'no371.jpg', 'no372.jpg', 'no373.jpg', 'no374.jpg', 'no375.jpg', 'no376.jpg', 'no377.jpg', 'no378.jpg', 'no379.jpg', 'no38.jpg', 'no380.jpg', 'no381.jpg', 'no382.jpg', 'no383.jpg', 'no384.jpg', 'no385.jpg', 'no386.jpg', 'no387.jpg', 'no388.jpg', 'no389.jpg', 'no39.jpg', 'no390.jpg', 'no391.jpg', 'no392.jpg', 'no393.jpg', 'no394.jpg', 'no395.jpg', 'no396.jpg', 'no397.jpg', 'no398.jpg', 'no399.jpg', 'no4.jpg', 'no40.jpg', 'no400.jpg', 'no401.jpg', 'no402.jpg', 'no403.jpg', 'no404.jpg', 'no405.jpg', 'no406.jpg', 'no407.jpg', 'no408.jpg', 'no409.jpg', 'no41.jpg', 'no410.jpg', 'no411.jpg', 'no412.jpg', 'no413.jpg', 'no414.jpg', 'no415.jpg', 'no416.jpg', 'no417.jpg', 'no418.jpg', 'no419.jpg', 'no42.jpg', 'no420.jpg', 'no421.jpg', 'no422.jpg', 'no423.jpg', 'no424.jpg', 'no425.jpg', 'no426.jpg', 'no427.jpg', 'no428.jpg', 'no429.jpg', 'no43.jpg', 'no430.jpg', 'no431.jpg', 'no432.jpg', 'no433.jpg', 'no434.jpg', 'no435.jpg', 'no436.jpg', 'no437.jpg', 'no438.jpg', 'no439.jpg', 'no44.jpg', 'no440.jpg', 'no441.jpg', 'no442.jpg', 'no443.jpg', 'no444.jpg', 'no445.jpg', 'no446.jpg', 'no447.jpg', 'no448.jpg', 'no449.jpg', 'no45.jpg', 'no450.jpg', 'no451.jpg', 'no452.jpg', 'no453.jpg', 'no454.jpg', 'no455.jpg', 'no456.jpg', 'no457.jpg', 'no458.jpg', 'no459.jpg', 'no46.jpg', 'no460.jpg', 'no461.jpg', 'no462.jpg', 'no463.jpg', 'no464.jpg', 'no465.jpg', 'no466.jpg', 'no467.jpg', 'no468.jpg', 'no469.jpg', 'no47.jpg', 'no470.jpg', 'no471.jpg', 'no472.jpg', 'no473.jpg', 'no474.jpg', 'no475.jpg', 'no476.jpg', 'no477.jpg', 'no478.jpg', 'no479.jpg', 'no48.jpg', 'no480.jpg', 'no481.jpg', 'no482.jpg', 'no483.jpg', 'no484.jpg', 'no485.jpg', 'no486.jpg', 'no487.jpg', 'no488.jpg', 'no489.jpg', 'no49.jpg', 'no490.jpg', 'no491.jpg', 'no492.jpg', 'no493.jpg', 'no494.jpg', 'no495.jpg', 'no496.jpg', 'no497.jpg', 'no498.jpg', 'no499.jpg', 'no5.jpg', 'no50.jpg', 'no500.jpg', 'no501.jpg', 'no502.jpg', 'no503.jpg', 'no504.jpg', 'no505.jpg', 'no506.jpg', 'no507.jpg', 'no508.jpg', 'no509.jpg', 'no51.jpg', 'no510.jpg', 'no511.jpg', 'no512.jpg', 'no513.jpg', 'no514.jpg', 'no515.jpg', 'no516.jpg', 'no517.jpg', 'no518.jpg', 'no519.jpg', 'no52.jpg', 'no520.jpg', 'no521.jpg', 'no522.jpg', 'no523.jpg', 'no524.jpg', 'no525.jpg', 'no526.jpg', 'no527.jpg', 'no528.jpg', 'no529.jpg', 'no53.jpg', 'no530.jpg', 'no531.jpg', 'no532.jpg', 'no533.jpg', 'no534.jpg', 'no535.jpg', 'no536.jpg', 'no537.jpg', 'no538.jpg', 'no539.jpg', 'no54.jpg', 'no540.jpg', 'no541.jpg', 'no542.jpg', 'no543.jpg', 'no544.jpg', 'no545.jpg', 'no546.jpg', 'no547.jpg', 'no548.jpg', 'no549.jpg', 'no55.jpg', 'no550.jpg', 'no551.jpg', 'no552.jpg', 'no553.jpg', 'no554.jpg', 'no555.jpg', 'no556.jpg', 'no557.jpg', 'no558.jpg', 'no559.jpg', 'no56.jpg', 'no560.jpg', 'no561.jpg', 'no562.jpg', 'no563.jpg', 'no564.jpg', 'no565.jpg', 'no566.jpg', 'no567.jpg', 'no568.jpg', 'no569.jpg', 'no57.jpg', 'no570.jpg', 'no571.jpg', 'no572.jpg', 'no573.jpg', 'no574.jpg', 'no575.jpg', 'no576.jpg', 'no577.jpg', 'no578.jpg', 'no579.jpg', 'no58.jpg', 'no580.jpg', 'no581.jpg', 'no582.jpg', 'no583.jpg', 'no584.jpg', 'no585.jpg', 'no586.jpg', 'no587.jpg', 'no588.jpg', 'no589.jpg', 'no59.jpg', 'no590.jpg', 'no591.jpg', 'no592.jpg', 'no593.jpg', 'no594.jpg', 'no595.jpg', 'no596.jpg', 'no597.jpg', 'no598.jpg', 'no599.jpg', 'no6.jpg', 'no60.jpg', 'no600.jpg', 'no601.jpg', 'no602.jpg', 'no603.jpg', 'no604.jpg', 'no605.jpg', 'no606.jpg', 'no607.jpg', 'no608.jpg', 'no609.jpg', 'no61.jpg', 'no610.jpg', 'no611.jpg', 'no612.jpg', 'no613.jpg', 'no614.jpg', 'no615.jpg', 'no616.jpg', 'no617.jpg', 'no618.jpg', 'no619.jpg', 'no62.jpg', 'no620.jpg', 'no621.jpg', 'no622.jpg', 'no623.jpg', 'no624.jpg', 'no625.jpg', 'no626.jpg', 'no627.jpg', 'no628.jpg', 'no629.jpg', 'no63.jpg', 'no630.jpg', 'no631.jpg', 'no632.jpg', 'no633.jpg', 'no634.jpg', 'no635.jpg', 'no636.jpg', 'no637.jpg', 'no638.jpg', 'no639.jpg', 'no64.jpg', 'no640.jpg', 'no641.jpg', 'no642.jpg', 'no643.jpg', 'no644.jpg', 'no645.jpg', 'no646.jpg', 'no647.jpg', 'no648.jpg', 'no649.jpg', 'no65.jpg', 'no650.jpg', 'no651.jpg', 'no652.jpg', 'no653.jpg', 'no654.jpg', 'no655.jpg', 'no656.jpg', 'no657.jpg', 'no658.jpg', 'no659.jpg', 'no66.jpg', 'no660.jpg', 'no661.jpg', 'no662.jpg', 'no663.jpg', 'no664.jpg', 'no665.jpg', 'no666.jpg', 'no667.jpg', 'no668.jpg', 'no669.jpg', 'no67.jpg', 'no670.jpg', 'no671.jpg', 'no672.jpg', 'no673.jpg', 'no674.jpg', 'no675.jpg', 'no676.jpg', 'no677.jpg', 'no678.jpg', 'no679.jpg', 'no68.jpg', 'no680.jpg', 'no681.jpg', 'no682.jpg', 'no683.jpg', 'no684.jpg', 'no685.jpg', 'no686.jpg', 'no687.jpg', 'no688.jpg', 'no689.jpg', 'no69.jpg', 'no690.jpg', 'no691.jpg', 'no692.jpg', 'no693.jpg', 'no694.jpg', 'no695.jpg', 'no696.jpg', 'no697.jpg', 'no698.jpg', 'no699.jpg', 'no7.jpg', 'no70.jpg', 'no700.jpg', 'no701.jpg', 'no702.jpg', 'no703.jpg', 'no704.jpg', 'no705.jpg', 'no706.jpg', 'no707.jpg', 'no708.jpg', 'no709.jpg', 'no71.jpg', 'no710.jpg', 'no711.jpg', 'no712.jpg', 'no713.jpg', 'no714.jpg', 'no715.jpg', 'no716.jpg', 'no717.jpg', 'no718.jpg', 'no719.jpg', 'no72.jpg', 'no720.jpg', 'no721.jpg', 'no722.jpg', 'no723.jpg', 'no724.jpg', 'no725.jpg', 'no726.jpg', 'no727.jpg', 'no728.jpg', 'no729.jpg', 'no73.jpg', 'no730.jpg', 'no731.jpg', 'no732.jpg', 'no733.jpg', 'no734.jpg', 'no735.jpg', 'no736.jpg', 'no737.jpg', 'no738.jpg', 'no739.jpg', 'no74.jpg', 'no740.jpg', 'no741.jpg', 'no742.jpg', 'no743.jpg', 'no744.jpg', 'no745.jpg', 'no746.jpg', 'no747.jpg', 'no748.jpg', 'no749.jpg', 'no75.jpg', 'no750.jpg', 'no751.jpg', 'no752.jpg', 'no753.jpg', 'no754.jpg', 'no755.jpg', 'no756.jpg', 'no757.jpg', 'no758.jpg', 'no759.jpg', 'no76.jpg', 'no760.jpg', 'no761.jpg', 'no762.jpg', 'no763.jpg', 'no764.jpg', 'no765.jpg', 'no766.jpg', 'no767.jpg', 'no768.jpg', 'no769.jpg', 'no77.jpg', 'no770.jpg', 'no771.jpg', 'no772.jpg', 'no773.jpg', 'no774.jpg', 'no775.jpg', 'no776.jpg', 'no777.jpg', 'no778.jpg', 'no779.jpg', 'no78.jpg', 'no780.jpg', 'no781.jpg', 'no782.jpg', 'no783.jpg', 'no784.jpg', 'no785.jpg', 'no786.jpg', 'no787.jpg', 'no788.jpg', 'no789.jpg', 'no79.jpg', 'no790.jpg', 'no791.jpg', 'no792.jpg', 'no793.jpg', 'no794.jpg', 'no795.jpg', 'no796.jpg', 'no797.jpg', 'no798.jpg', 'no799.jpg', 'no8.jpg', 'no80.jpg', 'no800.jpg', 'no801.jpg', 'no802.jpg', 'no803.jpg', 'no804.jpg', 'no805.jpg', 'no806.jpg', 'no807.jpg', 'no808.jpg', 'no809.jpg', 'no81.jpg', 'no810.jpg', 'no811.jpg', 'no812.jpg', 'no813.jpg', 'no814.jpg', 'no815.jpg', 'no816.jpg', 'no817.jpg', 'no818.jpg', 'no819.jpg', 'no82.jpg', 'no820.jpg', 'no821.jpg', 'no822.jpg', 'no823.jpg', 'no824.jpg', 'no825.jpg', 'no826.jpg', 'no827.jpg', 'no828.jpg', 'no829.jpg', 'no83.jpg', 'no830.jpg', 'no831.jpg', 'no832.jpg', 'no833.jpg', 'no834.jpg', 'no835.jpg', 'no836.jpg', 'no837.jpg', 'no838.jpg', 'no839.jpg', 'no84.jpg', 'no840.jpg', 'no841.jpg', 'no842.jpg', 'no843.jpg', 'no844.jpg', 'no845.jpg', 'no846.jpg', 'no847.jpg', 'no848.jpg', 'no849.jpg', 'no85.jpg', 'no850.jpg', 'no851.jpg', 'no852.jpg', 'no853.jpg', 'no854.jpg', 'no855.jpg', 'no856.jpg', 'no857.jpg', 'no858.jpg', 'no859.jpg', 'no86.jpg', 'no860.jpg', 'no861.jpg', 'no862.jpg', 'no863.jpg', 'no864.jpg', 'no865.jpg', 'no866.jpg', 'no867.jpg', 'no868.jpg', 'no869.jpg', 'no87.jpg', 'no870.jpg', 'no871.jpg', 'no872.jpg', 'no873.jpg', 'no874.jpg', 'no875.jpg', 'no876.jpg', 'no877.jpg', 'no878.jpg', 'no879.jpg', 'no88.jpg', 'no880.jpg', 'no881.jpg', 'no882.jpg', 'no883.jpg', 'no884.jpg', 'no885.jpg', 'no886.jpg', 'no887.jpg', 'no888.jpg', 'no889.jpg', 'no89.jpg', 'no890.jpg', 'no891.jpg', 'no892.jpg', 'no893.jpg', 'no894.jpg', 'no895.jpg', 'no896.jpg', 'no897.jpg', 'no898.jpg', 'no899.jpg', 'no9.jpg', 'no90.jpg', 'no900.jpg', 'no901.jpg', 'no902.jpg', 'no903.jpg', 'no904.jpg', 'no905.jpg', 'no906.jpg', 'no907.jpg', 'no908.jpg', 'no909.jpg', 'no91.jpg', 'no910.jpg', 'no911.jpg', 'no912.jpg', 'no913.jpg', 'no914.jpg', 'no915.jpg', 'no916.jpg', 'no917.jpg', 'no918.jpg', 'no919.jpg', 'no92.jpg', 'no920.jpg', 'no921.jpg', 'no922.jpg', 'no923.jpg', 'no924.jpg', 'no925.jpg', 'no926.jpg', 'no927.jpg', 'no928.jpg', 'no929.jpg', 'no93.jpg', 'no930.jpg', 'no931.jpg', 'no932.jpg', 'no933.jpg', 'no934.jpg', 'no935.jpg', 'no936.jpg', 'no937.jpg', 'no938.jpg', 'no939.jpg', 'no94.jpg', 'no940.jpg', 'no941.jpg', 'no942.jpg', 'no943.jpg', 'no944.jpg', 'no945.jpg', 'no946.jpg', 'no947.jpg', 'no948.jpg', 'no949.jpg', 'no95.jpg', 'no950.jpg', 'no951.jpg', 'no952.jpg', 'no953.jpg', 'no954.jpg', 'no955.jpg', 'no956.jpg', 'no957.jpg', 'no958.jpg', 'no959.jpg', 'no96.jpg', 'no960.jpg', 'no961.jpg', 'no962.jpg', 'no963.jpg', 'no964.jpg', 'no965.jpg', 'no966.jpg', 'no967.jpg', 'no968.jpg', 'no969.jpg', 'no97.jpg', 'no970.jpg', 'no971.jpg', 'no972.jpg', 'no973.jpg', 'no974.jpg', 'no975.jpg', 'no976.jpg', 'no977.jpg', 'no978.jpg', 'no979.jpg', 'no98.jpg', 'no980.jpg', 'no981.jpg', 'no982.jpg', 'no983.jpg', 'no984.jpg', 'no985.jpg', 'no986.jpg', 'no987.jpg', 'no988.jpg', 'no989.jpg', 'no99.jpg', 'no990.jpg', 'no991.jpg', 'no992.jpg', 'no993.jpg', 'no994.jpg', 'no995.jpg', 'no996.jpg', 'no997.jpg', 'no998.jpg', 'no999.jpg']\n",
      "['y0.jpg', 'y1.jpg', 'y10.jpg', 'y100.jpg', 'y1000.jpg', 'y1001.jpg', 'y1002.jpg', 'y1003.jpg', 'y1004.jpg', 'y1005.jpg', 'y1006.jpg', 'y1007.jpg', 'y1008.jpg', 'y1009.jpg', 'y101.jpg', 'y1010.jpg', 'y1011.jpg', 'y1012.jpg', 'y1013.jpg', 'y1014.jpg', 'y1015.jpg', 'y1016.jpg', 'y1017.jpg', 'y1018.jpg', 'y1019.jpg', 'y102.jpg', 'y1020.jpg', 'y1021.jpg', 'y1022.jpg', 'y1023.jpg', 'y1024.jpg', 'y1025.jpg', 'y1026.jpg', 'y1027.jpg', 'y1028.jpg', 'y1029.jpg', 'y103.jpg', 'y1030.jpg', 'y1031.jpg', 'y1032.jpg', 'y1033.jpg', 'y1034.jpg', 'y1035.jpg', 'y1036.jpg', 'y1037.jpg', 'y1038.jpg', 'y1039.jpg', 'y104.jpg', 'y1040.jpg', 'y1041.jpg', 'y1042.jpg', 'y1043.jpg', 'y1044.jpg', 'y1045.jpg', 'y1046.jpg', 'y1047.jpg', 'y1048.jpg', 'y1049.jpg', 'y105.jpg', 'y1050.jpg', 'y1051.jpg', 'y1052.jpg', 'y1053.jpg', 'y1054.jpg', 'y1055.jpg', 'y1056.jpg', 'y1057.jpg', 'y1058.jpg', 'y1059.jpg', 'y106.jpg', 'y1060.jpg', 'y1061.jpg', 'y1062.jpg', 'y1063.jpg', 'y1064.jpg', 'y1065.jpg', 'y1066.jpg', 'y1067.jpg', 'y1068.jpg', 'y1069.jpg', 'y107.jpg', 'y1070.jpg', 'y1071.jpg', 'y1072.jpg', 'y1073.jpg', 'y1074.jpg', 'y1075.jpg', 'y1076.jpg', 'y1077.jpg', 'y1078.jpg', 'y1079.jpg', 'y108.jpg', 'y1080.jpg', 'y1081.jpg', 'y1082.jpg', 'y1083.jpg', 'y1084.jpg', 'y1085.jpg', 'y1086.jpg', 'y1087.jpg', 'y1088.jpg', 'y1089.jpg', 'y109.jpg', 'y1090.jpg', 'y1091.jpg', 'y1092.jpg', 'y1093.jpg', 'y1094.jpg', 'y1095.jpg', 'y1096.jpg', 'y1097.jpg', 'y1098.jpg', 'y1099.jpg', 'y11.jpg', 'y110.jpg', 'y1100.jpg', 'y1101.jpg', 'y1102.jpg', 'y1103.jpg', 'y1104.jpg', 'y1105.jpg', 'y1106.jpg', 'y1107.jpg', 'y1108.jpg', 'y1109.jpg', 'y111.jpg', 'y1110.jpg', 'y1111.jpg', 'y1112.jpg', 'y1113.jpg', 'y1114.jpg', 'y1115.jpg', 'y1116.jpg', 'y1117.jpg', 'y1118.jpg', 'y1119.jpg', 'y112.jpg', 'y1120.jpg', 'y1121.jpg', 'y1122.jpg', 'y1123.jpg', 'y1124.jpg', 'y1125.jpg', 'y1126.jpg', 'y1127.jpg', 'y1128.jpg', 'y1129.jpg', 'y113.jpg', 'y1130.jpg', 'y1131.jpg', 'y1132.jpg', 'y1133.jpg', 'y1134.jpg', 'y1135.jpg', 'y1136.jpg', 'y1137.jpg', 'y1138.jpg', 'y1139.jpg', 'y114.jpg', 'y1140.jpg', 'y1141.jpg', 'y1142.jpg', 'y1143.jpg', 'y1144.jpg', 'y1145.jpg', 'y1146.jpg', 'y1147.jpg', 'y1148.jpg', 'y1149.jpg', 'y115.jpg', 'y1150.jpg', 'y1151.jpg', 'y1152.jpg', 'y1153.jpg', 'y1154.jpg', 'y1155.jpg', 'y1156.jpg', 'y1157.jpg', 'y1158.jpg', 'y1159.jpg', 'y116.jpg', 'y1160.jpg', 'y1161.jpg', 'y1162.jpg', 'y1163.jpg', 'y1164.jpg', 'y1165.jpg', 'y1166.jpg', 'y1167.jpg', 'y1168.jpg', 'y1169.jpg', 'y117.jpg', 'y1170.jpg', 'y1171.jpg', 'y1172.jpg', 'y1173.jpg', 'y1174.jpg', 'y1175.jpg', 'y1176.jpg', 'y1177.jpg', 'y1178.jpg', 'y1179.jpg', 'y118.jpg', 'y1180.jpg', 'y1181.jpg', 'y1182.jpg', 'y1183.jpg', 'y1184.jpg', 'y1185.jpg', 'y1186.jpg', 'y1187.jpg', 'y1188.jpg', 'y1189.jpg', 'y119.jpg', 'y1190.jpg', 'y1191.jpg', 'y1192.jpg', 'y1193.jpg', 'y1194.jpg', 'y1195.jpg', 'y1196.jpg', 'y1197.jpg', 'y1198.jpg', 'y1199.jpg', 'y12.jpg', 'y120.jpg', 'y1200.jpg', 'y1201.jpg', 'y1202.jpg', 'y1203.jpg', 'y1204.jpg', 'y1205.jpg', 'y1206.jpg', 'y1207.jpg', 'y1208.jpg', 'y1209.jpg', 'y121.jpg', 'y1210.jpg', 'y1211.jpg', 'y1212.jpg', 'y1213.jpg', 'y1214.jpg', 'y1215.jpg', 'y1216.jpg', 'y1217.jpg', 'y1218.jpg', 'y1219.jpg', 'y122.jpg', 'y1220.jpg', 'y1221.jpg', 'y1222.jpg', 'y1223.jpg', 'y1224.jpg', 'y1225.jpg', 'y1226.jpg', 'y1227.jpg', 'y1228.jpg', 'y1229.jpg', 'y123.jpg', 'y1230.jpg', 'y1231.jpg', 'y1232.jpg', 'y1233.jpg', 'y1234.jpg', 'y1235.jpg', 'y1236.jpg', 'y1237.jpg', 'y1238.jpg', 'y1239.jpg', 'y124.jpg', 'y1240.jpg', 'y1241.jpg', 'y1242.jpg', 'y1243.jpg', 'y1244.jpg', 'y1245.jpg', 'y1246.jpg', 'y1247.jpg', 'y1248.jpg', 'y1249.jpg', 'y125.jpg', 'y1250.jpg', 'y1251.jpg', 'y1252.jpg', 'y1253.jpg', 'y1254.jpg', 'y1255.jpg', 'y1256.jpg', 'y1257.jpg', 'y1258.jpg', 'y1259.jpg', 'y126.jpg', 'y1260.jpg', 'y1261.jpg', 'y1262.jpg', 'y1263.jpg', 'y1264.jpg', 'y1265.jpg', 'y1266.jpg', 'y1267.jpg', 'y1268.jpg', 'y1269.jpg', 'y127.jpg', 'y1270.jpg', 'y1271.jpg', 'y1272.jpg', 'y1273.jpg', 'y1274.jpg', 'y1275.jpg', 'y1276.jpg', 'y1277.jpg', 'y1278.jpg', 'y1279.jpg', 'y128.jpg', 'y1280.jpg', 'y1281.jpg', 'y1282.jpg', 'y1283.jpg', 'y1284.jpg', 'y1285.jpg', 'y1286.jpg', 'y1287.jpg', 'y1288.jpg', 'y1289.jpg', 'y129.jpg', 'y1290.jpg', 'y1291.jpg', 'y1292.jpg', 'y1293.jpg', 'y1294.jpg', 'y1295.jpg', 'y1296.jpg', 'y1297.jpg', 'y1298.jpg', 'y1299.jpg', 'y13.jpg', 'y130.jpg', 'y1300.jpg', 'y1301.jpg', 'y1302.jpg', 'y1303.jpg', 'y1304.jpg', 'y1305.jpg', 'y1306.jpg', 'y1307.jpg', 'y1308.jpg', 'y1309.jpg', 'y131.jpg', 'y1310.jpg', 'y1311.jpg', 'y1312.jpg', 'y1313.jpg', 'y1314.jpg', 'y1315.jpg', 'y1316.jpg', 'y1317.jpg', 'y1318.jpg', 'y1319.jpg', 'y132.jpg', 'y1320.jpg', 'y1321.jpg', 'y1322.jpg', 'y1323.jpg', 'y1324.jpg', 'y1325.jpg', 'y1326.jpg', 'y1327.jpg', 'y1328.jpg', 'y1329.jpg', 'y133.jpg', 'y1330.jpg', 'y1331.jpg', 'y1332.jpg', 'y1333.jpg', 'y1334.jpg', 'y1335.jpg', 'y1336.jpg', 'y1337.jpg', 'y1338.jpg', 'y1339.jpg', 'y134.jpg', 'y1340.jpg', 'y1341.jpg', 'y1342.jpg', 'y1343.jpg', 'y1344.jpg', 'y1345.jpg', 'y1346.jpg', 'y1347.jpg', 'y1348.jpg', 'y1349.jpg', 'y135.jpg', 'y1350.jpg', 'y1351.jpg', 'y1352.jpg', 'y1353.jpg', 'y1354.jpg', 'y1355.jpg', 'y1356.jpg', 'y1357.jpg', 'y1358.jpg', 'y1359.jpg', 'y136.jpg', 'y1360.jpg', 'y1361.jpg', 'y1362.jpg', 'y1363.jpg', 'y1364.jpg', 'y1365.jpg', 'y1366.jpg', 'y1367.jpg', 'y1368.jpg', 'y1369.jpg', 'y137.jpg', 'y1370.jpg', 'y1371.jpg', 'y1372.jpg', 'y1373.jpg', 'y1374.jpg', 'y1375.jpg', 'y1376.jpg', 'y1377.jpg', 'y1378.jpg', 'y1379.jpg', 'y138.jpg', 'y1380.jpg', 'y1381.jpg', 'y1382.jpg', 'y1383.jpg', 'y1384.jpg', 'y1385.jpg', 'y1386.jpg', 'y1387.jpg', 'y1388.jpg', 'y1389.jpg', 'y139.jpg', 'y1390.jpg', 'y1391.jpg', 'y1392.jpg', 'y1393.jpg', 'y1394.jpg', 'y1395.jpg', 'y1396.jpg', 'y1397.jpg', 'y1398.jpg', 'y1399.jpg', 'y14.jpg', 'y140.jpg', 'y1400.jpg', 'y1401.jpg', 'y1402.jpg', 'y1403.jpg', 'y1404.jpg', 'y1405.jpg', 'y1406.jpg', 'y1407.jpg', 'y1408.jpg', 'y1409.jpg', 'y141.jpg', 'y1410.jpg', 'y1411.jpg', 'y1412.jpg', 'y1413.jpg', 'y1414.jpg', 'y1415.jpg', 'y1416.jpg', 'y1417.jpg', 'y1418.jpg', 'y1419.jpg', 'y142.jpg', 'y1420.jpg', 'y1421.jpg', 'y1422.jpg', 'y1423.jpg', 'y1424.jpg', 'y1425.jpg', 'y1426.jpg', 'y1427.jpg', 'y1428.jpg', 'y1429.jpg', 'y143.jpg', 'y1430.jpg', 'y1431.jpg', 'y1432.jpg', 'y1433.jpg', 'y1434.jpg', 'y1435.jpg', 'y1436.jpg', 'y1437.jpg', 'y1438.jpg', 'y1439.jpg', 'y144.jpg', 'y1440.jpg', 'y1441.jpg', 'y1442.jpg', 'y1443.jpg', 'y1444.jpg', 'y1445.jpg', 'y1446.jpg', 'y1447.jpg', 'y1448.jpg', 'y1449.jpg', 'y145.jpg', 'y1450.jpg', 'y1451.jpg', 'y1452.jpg', 'y1453.jpg', 'y1454.jpg', 'y1455.jpg', 'y1456.jpg', 'y1457.jpg', 'y1458.jpg', 'y1459.jpg', 'y146.jpg', 'y1460.jpg', 'y1461.jpg', 'y1462.jpg', 'y1463.jpg', 'y1464.jpg', 'y1465.jpg', 'y1466.jpg', 'y1467.jpg', 'y1468.jpg', 'y1469.jpg', 'y147.jpg', 'y1470.jpg', 'y1471.jpg', 'y1472.jpg', 'y1473.jpg', 'y1474.jpg', 'y1475.jpg', 'y1476.jpg', 'y1477.jpg', 'y1478.jpg', 'y1479.jpg', 'y148.jpg', 'y1480.jpg', 'y1481.jpg', 'y1482.jpg', 'y1483.jpg', 'y1484.jpg', 'y1485.jpg', 'y1486.jpg', 'y1487.jpg', 'y1488.jpg', 'y1489.jpg', 'y149.jpg', 'y1490.jpg', 'y1491.jpg', 'y1492.jpg', 'y1493.jpg', 'y1494.jpg', 'y1495.jpg', 'y1496.jpg', 'y1497.jpg', 'y1498.jpg', 'y1499.jpg', 'y15.jpg', 'y150.jpg', 'y151.jpg', 'y152.jpg', 'y153.jpg', 'y154.jpg', 'y155.jpg', 'y156.jpg', 'y157.jpg', 'y158.jpg', 'y159.jpg', 'y16.jpg', 'y160.jpg', 'y161.jpg', 'y162.jpg', 'y163.jpg', 'y164.jpg', 'y165.jpg', 'y166.jpg', 'y167.jpg', 'y168.jpg', 'y169.jpg', 'y17.jpg', 'y170.jpg', 'y171.jpg', 'y172.jpg', 'y173.jpg', 'y174.jpg', 'y175.jpg', 'y176.jpg', 'y177.jpg', 'y178.jpg', 'y179.jpg', 'y18.jpg', 'y180.jpg', 'y181.jpg', 'y182.jpg', 'y183.jpg', 'y184.jpg', 'y185.jpg', 'y186.jpg', 'y187.jpg', 'y188.jpg', 'y189.jpg', 'y19.jpg', 'y190.jpg', 'y191.jpg', 'y192.jpg', 'y193.jpg', 'y194.jpg', 'y195.jpg', 'y196.jpg', 'y197.jpg', 'y198.jpg', 'y199.jpg', 'y2.jpg', 'y20.jpg', 'y200.jpg', 'y201.jpg', 'y202.jpg', 'y203.jpg', 'y204.jpg', 'y205.jpg', 'y206.jpg', 'y207.jpg', 'y208.jpg', 'y209.jpg', 'y21.jpg', 'y210.jpg', 'y211.jpg', 'y212.jpg', 'y213.jpg', 'y214.jpg', 'y215.jpg', 'y216.jpg', 'y217.jpg', 'y218.jpg', 'y219.jpg', 'y22.jpg', 'y220.jpg', 'y221.jpg', 'y222.jpg', 'y223.jpg', 'y224.jpg', 'y225.jpg', 'y226.jpg', 'y227.jpg', 'y228.jpg', 'y229.jpg', 'y23.jpg', 'y230.jpg', 'y231.jpg', 'y232.jpg', 'y233.jpg', 'y234.jpg', 'y235.jpg', 'y236.jpg', 'y237.jpg', 'y238.jpg', 'y239.jpg', 'y24.jpg', 'y240.jpg', 'y241.jpg', 'y242.jpg', 'y243.jpg', 'y244.jpg', 'y245.jpg', 'y246.jpg', 'y247.jpg', 'y248.jpg', 'y249.jpg', 'y25.jpg', 'y250.jpg', 'y251.jpg', 'y252.jpg', 'y253.jpg', 'y254.jpg', 'y255.jpg', 'y256.jpg', 'y257.jpg', 'y258.jpg', 'y259.jpg', 'y26.jpg', 'y260.jpg', 'y261.jpg', 'y262.jpg', 'y263.jpg', 'y264.jpg', 'y265.jpg', 'y266.jpg', 'y267.jpg', 'y268.jpg', 'y269.jpg', 'y27.jpg', 'y270.jpg', 'y271.jpg', 'y272.jpg', 'y273.jpg', 'y274.jpg', 'y275.jpg', 'y276.jpg', 'y277.jpg', 'y278.jpg', 'y279.jpg', 'y28.jpg', 'y280.jpg', 'y281.jpg', 'y282.jpg', 'y283.jpg', 'y284.jpg', 'y285.jpg', 'y286.jpg', 'y287.jpg', 'y288.jpg', 'y289.jpg', 'y29.jpg', 'y290.jpg', 'y291.jpg', 'y292.jpg', 'y293.jpg', 'y294.jpg', 'y295.jpg', 'y296.jpg', 'y297.jpg', 'y298.jpg', 'y299.jpg', 'y3.jpg', 'y30.jpg', 'y300.jpg', 'y301.jpg', 'y302.jpg', 'y303.jpg', 'y304.jpg', 'y305.jpg', 'y306.jpg', 'y307.jpg', 'y308.jpg', 'y309.jpg', 'y31.jpg', 'y310.jpg', 'y311.jpg', 'y312.jpg', 'y313.jpg', 'y314.jpg', 'y315.jpg', 'y316.jpg', 'y317.jpg', 'y318.jpg', 'y319.jpg', 'y32.jpg', 'y320.jpg', 'y321.jpg', 'y322.jpg', 'y323.jpg', 'y324.jpg', 'y325.jpg', 'y326.jpg', 'y327.jpg', 'y328.jpg', 'y329.jpg', 'y33.jpg', 'y330.jpg', 'y331.jpg', 'y332.jpg', 'y333.jpg', 'y334.jpg', 'y335.jpg', 'y336.jpg', 'y337.jpg', 'y338.jpg', 'y339.jpg', 'y34.jpg', 'y340.jpg', 'y341.jpg', 'y342.jpg', 'y343.jpg', 'y344.jpg', 'y345.jpg', 'y346.jpg', 'y347.jpg', 'y348.jpg', 'y349.jpg', 'y35.jpg', 'y350.jpg', 'y351.jpg', 'y352.jpg', 'y353.jpg', 'y354.jpg', 'y355.jpg', 'y356.jpg', 'y357.jpg', 'y358.jpg', 'y359.jpg', 'y36.jpg', 'y360.jpg', 'y361.jpg', 'y362.jpg', 'y363.jpg', 'y364.jpg', 'y365.jpg', 'y366.jpg', 'y367.jpg', 'y368.jpg', 'y369.jpg', 'y37.jpg', 'y370.jpg', 'y371.jpg', 'y372.jpg', 'y373.jpg', 'y374.jpg', 'y375.jpg', 'y376.jpg', 'y377.jpg', 'y378.jpg', 'y379.jpg', 'y38.jpg', 'y380.jpg', 'y381.jpg', 'y382.jpg', 'y383.jpg', 'y384.jpg', 'y385.jpg', 'y386.jpg', 'y387.jpg', 'y388.jpg', 'y389.jpg', 'y39.jpg', 'y390.jpg', 'y391.jpg', 'y392.jpg', 'y393.jpg', 'y394.jpg', 'y395.jpg', 'y396.jpg', 'y397.jpg', 'y398.jpg', 'y399.jpg', 'y4.jpg', 'y40.jpg', 'y400.jpg', 'y401.jpg', 'y402.jpg', 'y403.jpg', 'y404.jpg', 'y405.jpg', 'y406.jpg', 'y407.jpg', 'y408.jpg', 'y409.jpg', 'y41.jpg', 'y410.jpg', 'y411.jpg', 'y412.jpg', 'y413.jpg', 'y414.jpg', 'y415.jpg', 'y416.jpg', 'y417.jpg', 'y418.jpg', 'y419.jpg', 'y42.jpg', 'y420.jpg', 'y421.jpg', 'y422.jpg', 'y423.jpg', 'y424.jpg', 'y425.jpg', 'y426.jpg', 'y427.jpg', 'y428.jpg', 'y429.jpg', 'y43.jpg', 'y430.jpg', 'y431.jpg', 'y432.jpg', 'y433.jpg', 'y434.jpg', 'y435.jpg', 'y436.jpg', 'y437.jpg', 'y438.jpg', 'y439.jpg', 'y44.jpg', 'y440.jpg', 'y441.jpg', 'y442.jpg', 'y443.jpg', 'y444.jpg', 'y445.jpg', 'y446.jpg', 'y447.jpg', 'y448.jpg', 'y449.jpg', 'y45.jpg', 'y450.jpg', 'y451.jpg', 'y452.jpg', 'y453.jpg', 'y454.jpg', 'y455.jpg', 'y456.jpg', 'y457.jpg', 'y458.jpg', 'y459.jpg', 'y46.jpg', 'y460.jpg', 'y461.jpg', 'y462.jpg', 'y463.jpg', 'y464.jpg', 'y465.jpg', 'y466.jpg', 'y467.jpg', 'y468.jpg', 'y469.jpg', 'y47.jpg', 'y470.jpg', 'y471.jpg', 'y472.jpg', 'y473.jpg', 'y474.jpg', 'y475.jpg', 'y476.jpg', 'y477.jpg', 'y478.jpg', 'y479.jpg', 'y48.jpg', 'y480.jpg', 'y481.jpg', 'y482.jpg', 'y483.jpg', 'y484.jpg', 'y485.jpg', 'y486.jpg', 'y487.jpg', 'y488.jpg', 'y489.jpg', 'y49.jpg', 'y490.jpg', 'y491.jpg', 'y492.jpg', 'y493.jpg', 'y494.jpg', 'y495.jpg', 'y496.jpg', 'y497.jpg', 'y498.jpg', 'y499.jpg', 'y5.jpg', 'y50.jpg', 'y500.jpg', 'y501.jpg', 'y502.jpg', 'y503.jpg', 'y504.jpg', 'y505.jpg', 'y506.jpg', 'y507.jpg', 'y508.jpg', 'y509.jpg', 'y51.jpg', 'y510.jpg', 'y511.jpg', 'y512.jpg', 'y513.jpg', 'y514.jpg', 'y515.jpg', 'y516.jpg', 'y517.jpg', 'y518.jpg', 'y519.jpg', 'y52.jpg', 'y520.jpg', 'y521.jpg', 'y522.jpg', 'y523.jpg', 'y524.jpg', 'y525.jpg', 'y526.jpg', 'y527.jpg', 'y528.jpg', 'y529.jpg', 'y53.jpg', 'y530.jpg', 'y531.jpg', 'y532.jpg', 'y533.jpg', 'y534.jpg', 'y535.jpg', 'y536.jpg', 'y537.jpg', 'y538.jpg', 'y539.jpg', 'y54.jpg', 'y540.jpg', 'y541.jpg', 'y542.jpg', 'y543.jpg', 'y544.jpg', 'y545.jpg', 'y546.jpg', 'y547.jpg', 'y548.jpg', 'y549.jpg', 'y55.jpg', 'y550.jpg', 'y551.jpg', 'y552.jpg', 'y553.jpg', 'y554.jpg', 'y555.jpg', 'y556.jpg', 'y557.jpg', 'y558.jpg', 'y559.jpg', 'y56.jpg', 'y560.jpg', 'y561.jpg', 'y562.jpg', 'y563.jpg', 'y564.jpg', 'y565.jpg', 'y566.jpg', 'y567.jpg', 'y568.jpg', 'y569.jpg', 'y57.jpg', 'y570.jpg', 'y571.jpg', 'y572.jpg', 'y573.jpg', 'y574.jpg', 'y575.jpg', 'y576.jpg', 'y577.jpg', 'y578.jpg', 'y579.jpg', 'y58.jpg', 'y580.jpg', 'y581.jpg', 'y582.jpg', 'y583.jpg', 'y584.jpg', 'y585.jpg', 'y586.jpg', 'y587.jpg', 'y588.jpg', 'y589.jpg', 'y59.jpg', 'y590.jpg', 'y591.jpg', 'y592.jpg', 'y593.jpg', 'y594.jpg', 'y595.jpg', 'y596.jpg', 'y597.jpg', 'y598.jpg', 'y599.jpg', 'y6.jpg', 'y60.jpg', 'y600.jpg', 'y601.jpg', 'y602.jpg', 'y603.jpg', 'y604.jpg', 'y605.jpg', 'y606.jpg', 'y607.jpg', 'y608.jpg', 'y609.jpg', 'y61.jpg', 'y610.jpg', 'y611.jpg', 'y612.jpg', 'y613.jpg', 'y614.jpg', 'y615.jpg', 'y616.jpg', 'y617.jpg', 'y618.jpg', 'y619.jpg', 'y62.jpg', 'y620.jpg', 'y621.jpg', 'y622.jpg', 'y623.jpg', 'y624.jpg', 'y625.jpg', 'y626.jpg', 'y627.jpg', 'y628.jpg', 'y629.jpg', 'y63.jpg', 'y630.jpg', 'y631.jpg', 'y632.jpg', 'y633.jpg', 'y634.jpg', 'y635.jpg', 'y636.jpg', 'y637.jpg', 'y638.jpg', 'y639.jpg', 'y64.jpg', 'y640.jpg', 'y641.jpg', 'y642.jpg', 'y643.jpg', 'y644.jpg', 'y645.jpg', 'y646.jpg', 'y647.jpg', 'y648.jpg', 'y649.jpg', 'y65.jpg', 'y650.jpg', 'y651.jpg', 'y652.jpg', 'y653.jpg', 'y654.jpg', 'y655.jpg', 'y656.jpg', 'y657.jpg', 'y658.jpg', 'y659.jpg', 'y66.jpg', 'y660.jpg', 'y661.jpg', 'y662.jpg', 'y663.jpg', 'y664.jpg', 'y665.jpg', 'y666.jpg', 'y667.jpg', 'y668.jpg', 'y669.jpg', 'y67.jpg', 'y670.jpg', 'y671.jpg', 'y672.jpg', 'y673.jpg', 'y674.jpg', 'y675.jpg', 'y676.jpg', 'y677.jpg', 'y678.jpg', 'y679.jpg', 'y68.jpg', 'y680.jpg', 'y681.jpg', 'y682.jpg', 'y683.jpg', 'y684.jpg', 'y685.jpg', 'y686.jpg', 'y687.jpg', 'y688.jpg', 'y689.jpg', 'y69.jpg', 'y690.jpg', 'y691.jpg', 'y692.jpg', 'y693.jpg', 'y694.jpg', 'y695.jpg', 'y696.jpg', 'y697.jpg', 'y698.jpg', 'y699.jpg', 'y7.jpg', 'y70.jpg', 'y700.jpg', 'y701.jpg', 'y702.jpg', 'y703.jpg', 'y704.jpg', 'y705.jpg', 'y706.jpg', 'y707.jpg', 'y708.jpg', 'y709.jpg', 'y71.jpg', 'y710.jpg', 'y711.jpg', 'y712.jpg', 'y713.jpg', 'y714.jpg', 'y715.jpg', 'y716.jpg', 'y717.jpg', 'y718.jpg', 'y719.jpg', 'y72.jpg', 'y720.jpg', 'y721.jpg', 'y722.jpg', 'y723.jpg', 'y724.jpg', 'y725.jpg', 'y726.jpg', 'y727.jpg', 'y728.jpg', 'y729.jpg', 'y73.jpg', 'y730.jpg', 'y731.jpg', 'y732.jpg', 'y733.jpg', 'y734.jpg', 'y735.jpg', 'y736.jpg', 'y737.jpg', 'y738.jpg', 'y739.jpg', 'y74.jpg', 'y740.jpg', 'y741.jpg', 'y742.jpg', 'y743.jpg', 'y744.jpg', 'y745.jpg', 'y746.jpg', 'y747.jpg', 'y748.jpg', 'y749.jpg', 'y75.jpg', 'y750.jpg', 'y751.jpg', 'y752.jpg', 'y753.jpg', 'y754.jpg', 'y755.jpg', 'y756.jpg', 'y757.jpg', 'y758.jpg', 'y759.jpg', 'y76.jpg', 'y760.jpg', 'y761.jpg', 'y762.jpg', 'y763.jpg', 'y764.jpg', 'y765.jpg', 'y766.jpg', 'y767.jpg', 'y768.jpg', 'y769.jpg', 'y77.jpg', 'y770.jpg', 'y771.jpg', 'y772.jpg', 'y773.jpg', 'y774.jpg', 'y775.jpg', 'y776.jpg', 'y777.jpg', 'y778.jpg', 'y779.jpg', 'y78.jpg', 'y780.jpg', 'y781.jpg', 'y782.jpg', 'y783.jpg', 'y784.jpg', 'y785.jpg', 'y786.jpg', 'y787.jpg', 'y788.jpg', 'y789.jpg', 'y79.jpg', 'y790.jpg', 'y791.jpg', 'y792.jpg', 'y793.jpg', 'y794.jpg', 'y795.jpg', 'y796.jpg', 'y797.jpg', 'y798.jpg', 'y799.jpg', 'y8.jpg', 'y80.jpg', 'y800.jpg', 'y801.jpg', 'y802.jpg', 'y803.jpg', 'y804.jpg', 'y805.jpg', 'y806.jpg', 'y807.jpg', 'y808.jpg', 'y809.jpg', 'y81.jpg', 'y810.jpg', 'y811.jpg', 'y812.jpg', 'y813.jpg', 'y814.jpg', 'y815.jpg', 'y816.jpg', 'y817.jpg', 'y818.jpg', 'y819.jpg', 'y82.jpg', 'y820.jpg', 'y821.jpg', 'y822.jpg', 'y823.jpg', 'y824.jpg', 'y825.jpg', 'y826.jpg', 'y827.jpg', 'y828.jpg', 'y829.jpg', 'y83.jpg', 'y830.jpg', 'y831.jpg', 'y832.jpg', 'y833.jpg', 'y834.jpg', 'y835.jpg', 'y836.jpg', 'y837.jpg', 'y838.jpg', 'y839.jpg', 'y84.jpg', 'y840.jpg', 'y841.jpg', 'y842.jpg', 'y843.jpg', 'y844.jpg', 'y845.jpg', 'y846.jpg', 'y847.jpg', 'y848.jpg', 'y849.jpg', 'y85.jpg', 'y850.jpg', 'y851.jpg', 'y852.jpg', 'y853.jpg', 'y854.jpg', 'y855.jpg', 'y856.jpg', 'y857.jpg', 'y858.jpg', 'y859.jpg', 'y86.jpg', 'y860.jpg', 'y861.jpg', 'y862.jpg', 'y863.jpg', 'y864.jpg', 'y865.jpg', 'y866.jpg', 'y867.jpg', 'y868.jpg', 'y869.jpg', 'y87.jpg', 'y870.jpg', 'y871.jpg', 'y872.jpg', 'y873.jpg', 'y874.jpg', 'y875.jpg', 'y876.jpg', 'y877.jpg', 'y878.jpg', 'y879.jpg', 'y88.jpg', 'y880.jpg', 'y881.jpg', 'y882.jpg', 'y883.jpg', 'y884.jpg', 'y885.jpg', 'y886.jpg', 'y887.jpg', 'y888.jpg', 'y889.jpg', 'y89.jpg', 'y890.jpg', 'y891.jpg', 'y892.jpg', 'y893.jpg', 'y894.jpg', 'y895.jpg', 'y896.jpg', 'y897.jpg', 'y898.jpg', 'y899.jpg', 'y9.jpg', 'y90.jpg', 'y900.jpg', 'y901.jpg', 'y902.jpg', 'y903.jpg', 'y904.jpg', 'y905.jpg', 'y906.jpg', 'y907.jpg', 'y908.jpg', 'y909.jpg', 'y91.jpg', 'y910.jpg', 'y911.jpg', 'y912.jpg', 'y913.jpg', 'y914.jpg', 'y915.jpg', 'y916.jpg', 'y917.jpg', 'y918.jpg', 'y919.jpg', 'y92.jpg', 'y920.jpg', 'y921.jpg', 'y922.jpg', 'y923.jpg', 'y924.jpg', 'y925.jpg', 'y926.jpg', 'y927.jpg', 'y928.jpg', 'y929.jpg', 'y93.jpg', 'y930.jpg', 'y931.jpg', 'y932.jpg', 'y933.jpg', 'y934.jpg', 'y935.jpg', 'y936.jpg', 'y937.jpg', 'y938.jpg', 'y939.jpg', 'y94.jpg', 'y940.jpg', 'y941.jpg', 'y942.jpg', 'y943.jpg', 'y944.jpg', 'y945.jpg', 'y946.jpg', 'y947.jpg', 'y948.jpg', 'y949.jpg', 'y95.jpg', 'y950.jpg', 'y951.jpg', 'y952.jpg', 'y953.jpg', 'y954.jpg', 'y955.jpg', 'y956.jpg', 'y957.jpg', 'y958.jpg', 'y959.jpg', 'y96.jpg', 'y960.jpg', 'y961.jpg', 'y962.jpg', 'y963.jpg', 'y964.jpg', 'y965.jpg', 'y966.jpg', 'y967.jpg', 'y968.jpg', 'y969.jpg', 'y97.jpg', 'y970.jpg', 'y971.jpg', 'y972.jpg', 'y973.jpg', 'y974.jpg', 'y975.jpg', 'y976.jpg', 'y977.jpg', 'y978.jpg', 'y979.jpg', 'y98.jpg', 'y980.jpg', 'y981.jpg', 'y982.jpg', 'y983.jpg', 'y984.jpg', 'y985.jpg', 'y986.jpg', 'y987.jpg', 'y988.jpg', 'y989.jpg', 'y99.jpg', 'y990.jpg', 'y991.jpg', 'y992.jpg', 'y993.jpg', 'y994.jpg', 'y995.jpg', 'y996.jpg', 'y997.jpg', 'y998.jpg', 'y999.jpg']\n"
     ]
    }
   ],
   "source": [
    "INPUT_SIZE = 100\n",
    "image_directory = 'datasets/'\n",
    "\n",
    "no_tumor_images=os.listdir(image_directory+ 'no/')\n",
    "yes_tumor_images=os.listdir(image_directory+ 'yes/')\n",
    "dataset=[]\n",
    "label=[]\n",
    "print(no_tumor_images)\n",
    "print(yes_tumor_images)"
   ]
  },
  {
   "cell_type": "code",
   "execution_count": 28,
   "metadata": {},
   "outputs": [],
   "source": [
    "def crop_image(image):\n",
    "    if image is None:\n",
    "        print(\"Lỗi: Không thể đọc tệp ảnh. Hãy kiểm tra lại đường dẫn.\")\n",
    "    else:\n",
    "        gray = cv2.cvtColor(image, cv2.COLOR_BGR2GRAY)\n",
    "        blurred = cv2.GaussianBlur(gray, (5, 5), 0)\n",
    "        edges = cv2.Canny(blurred, 50, 150)\n",
    "        contours, _ = cv2.findContours(edges, cv2.RETR_EXTERNAL, cv2.CHAIN_APPROX_SIMPLE)\n",
    "        contour = max(contours, key=cv2.contourArea)\n",
    "\n",
    "        leftmost = tuple(contour[contour[:, :, 0].argmin()][0])\n",
    "        rightmost = tuple(contour[contour[:, :, 0].argmax()][0])\n",
    "        topmost = tuple(contour[contour[:, :, 1].argmin()][0])\n",
    "        bottommost = tuple(contour[contour[:, :, 1].argmax()][0])\n",
    "\n",
    "        # Xuất tọa độ 4 điểm\n",
    "        # print(\"Leftmost point:\", leftmost)\n",
    "        # print(\"Rightmost point:\", rightmost)\n",
    "        # print(\"Topmost point:\", topmost)\n",
    "        # print(\"Bottommost point:\", bottommost)\n",
    "        x_min = min(leftmost[0], rightmost[0])\n",
    "        x_max = max(leftmost[0], rightmost[0])\n",
    "        y_min = min(topmost[1], bottommost[1])\n",
    "        y_max = max(topmost[1], bottommost[1])\n",
    "\n",
    "        square_size = max(x_max - x_min, y_max - y_min)\n",
    "\n",
    "        x_center = (x_min + x_max) // 2\n",
    "        y_center = (y_min + y_max) // 2\n",
    "\n",
    "        x_min = x_center - square_size // 2\n",
    "        x_max = x_min + square_size\n",
    "        y_min = y_center - square_size // 2\n",
    "        y_max = y_min + square_size\n",
    "\n",
    "        x_min = max(0, x_min)\n",
    "        y_min = max(0, y_min)\n",
    "        x_max = min(image.shape[1], x_max)\n",
    "        y_max = min(image.shape[0], y_max)\n",
    "\n",
    "        cropped_image = image[y_min:y_max, x_min:x_max]\n",
    "\n",
    "        new_size = square_size\n",
    "        new_image = np.zeros((new_size, new_size, 3), dtype=np.uint8)\n",
    "\n",
    "        x_offset = (new_size - cropped_image.shape[1]) // 2\n",
    "        y_offset = (new_size - cropped_image.shape[0]) // 2\n",
    "\n",
    "        new_image[y_offset:y_offset + cropped_image.shape[0], x_offset:x_offset + cropped_image.shape[1]] = cropped_image\n",
    "    return new_image\n",
    "\n"
   ]
  },
  {
   "cell_type": "markdown",
   "metadata": {},
   "source": [
    "SAVE CROPPED IMAGES"
   ]
  },
  {
   "cell_type": "code",
   "execution_count": 29,
   "metadata": {},
   "outputs": [],
   "source": [
    "for i , image_name in enumerate(no_tumor_images) :\n",
    "    image=cv2.imread(image_directory+'no/'+no_tumor_images[i])\n",
    "    image=crop_image(image)\n",
    "    image=cv2.resize(image,(INPUT_SIZE,INPUT_SIZE))\n",
    "    image_name = no_tumor_images[i]\n",
    "    output_path = os.path.join('datasets/crop_no', image_name)\n",
    "    cv2.imwrite(output_path, image)\n",
    "\n",
    "\n",
    "for i , image_name in enumerate(yes_tumor_images) :\n",
    "    image=cv2.imread(image_directory+'yes/'+yes_tumor_images[i])\n",
    "    image=crop_image(image)\n",
    "    image=cv2.resize(image,(INPUT_SIZE,INPUT_SIZE))\n",
    "    image_name = no_tumor_images[i]\n",
    "    output_path = os.path.join('datasets/crop_yes', image_name)\n",
    "    cv2.imwrite(output_path, image)"
   ]
  }
 ],
 "metadata": {
  "kernelspec": {
   "display_name": "Python 3",
   "language": "python",
   "name": "python3"
  },
  "language_info": {
   "codemirror_mode": {
    "name": "ipython",
    "version": 3
   },
   "file_extension": ".py",
   "mimetype": "text/x-python",
   "name": "python",
   "nbconvert_exporter": "python",
   "pygments_lexer": "ipython3",
   "version": "3.12.4"
  }
 },
 "nbformat": 4,
 "nbformat_minor": 2
}
